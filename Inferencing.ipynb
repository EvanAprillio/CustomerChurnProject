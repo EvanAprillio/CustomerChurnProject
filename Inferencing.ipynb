{
 "cells": [
  {
   "attachments": {},
   "cell_type": "markdown",
   "metadata": {},
   "source": [
    "## Perkenalan "
   ]
  },
  {
   "attachments": {},
   "cell_type": "markdown",
   "metadata": {},
   "source": [
    "Nama : Evan Aprillio B  \n",
    "Batch : RMT-019"
   ]
  },
  {
   "attachments": {},
   "cell_type": "markdown",
   "metadata": {},
   "source": [
    "## Import Library"
   ]
  },
  {
   "cell_type": "code",
   "execution_count": 1,
   "metadata": {},
   "outputs": [],
   "source": [
    "import pandas as pd\n",
    "import numpy as np\n",
    "import json,pickle\n",
    "from tensorflow.keras.models import load_model"
   ]
  },
  {
   "attachments": {},
   "cell_type": "markdown",
   "metadata": {},
   "source": [
    "## Load Model"
   ]
  },
  {
   "cell_type": "code",
   "execution_count": 3,
   "metadata": {},
   "outputs": [],
   "source": [
    "with open(\"final_pipeline.pkl\",\"rb\") as file_1:\n",
    "  model_pipeline=pickle.load(file_1)\n",
    "\n",
    "model_seq= load_model(\"churn_model.h5\")"
   ]
  },
  {
   "attachments": {},
   "cell_type": "markdown",
   "metadata": {},
   "source": [
    "## Inferencing Data"
   ]
  },
  {
   "cell_type": "code",
   "execution_count": 11,
   "metadata": {},
   "outputs": [
    {
     "data": {
      "text/html": [
       "<div>\n",
       "<style scoped>\n",
       "    .dataframe tbody tr th:only-of-type {\n",
       "        vertical-align: middle;\n",
       "    }\n",
       "\n",
       "    .dataframe tbody tr th {\n",
       "        vertical-align: top;\n",
       "    }\n",
       "\n",
       "    .dataframe thead th {\n",
       "        text-align: right;\n",
       "    }\n",
       "</style>\n",
       "<table border=\"1\" class=\"dataframe\">\n",
       "  <thead>\n",
       "    <tr style=\"text-align: right;\">\n",
       "      <th></th>\n",
       "      <th>age</th>\n",
       "      <th>gender</th>\n",
       "      <th>region_category</th>\n",
       "      <th>membership_category</th>\n",
       "      <th>joining_date</th>\n",
       "      <th>joined_through_referral</th>\n",
       "      <th>preferred_offer_types</th>\n",
       "      <th>medium_of_operation</th>\n",
       "      <th>internet_option</th>\n",
       "      <th>last_visit_time</th>\n",
       "      <th>days_since_last_login</th>\n",
       "      <th>avg_time_spent</th>\n",
       "      <th>avg_transaction_value</th>\n",
       "      <th>avg_frequency_login_days</th>\n",
       "      <th>points_in_wallet</th>\n",
       "      <th>used_special_discount</th>\n",
       "      <th>offer_application_preference</th>\n",
       "      <th>past_complaint</th>\n",
       "      <th>complaint_status</th>\n",
       "      <th>feedback</th>\n",
       "    </tr>\n",
       "  </thead>\n",
       "  <tbody>\n",
       "    <tr>\n",
       "      <th>0</th>\n",
       "      <td>50</td>\n",
       "      <td>F</td>\n",
       "      <td>Town</td>\n",
       "      <td>No Membership</td>\n",
       "      <td>2017-04-05</td>\n",
       "      <td>Yes</td>\n",
       "      <td>Without Offers\\t</td>\n",
       "      <td>Desktop</td>\n",
       "      <td>Fiber_Optic</td>\n",
       "      <td>22:31:06</td>\n",
       "      <td>0</td>\n",
       "      <td>338</td>\n",
       "      <td>0</td>\n",
       "      <td>10</td>\n",
       "      <td>700</td>\n",
       "      <td>Yes</td>\n",
       "      <td>No</td>\n",
       "      <td>Yes</td>\n",
       "      <td>Not Applicable</td>\n",
       "      <td>Poor Product Quality</td>\n",
       "    </tr>\n",
       "  </tbody>\n",
       "</table>\n",
       "</div>"
      ],
      "text/plain": [
       "   age gender region_category membership_category joining_date  \\\n",
       "0   50      F            Town       No Membership   2017-04-05   \n",
       "\n",
       "  joined_through_referral preferred_offer_types medium_of_operation  \\\n",
       "0                     Yes      Without Offers\\t             Desktop   \n",
       "\n",
       "  internet_option last_visit_time  days_since_last_login  avg_time_spent  \\\n",
       "0     Fiber_Optic        22:31:06                      0             338   \n",
       "\n",
       "   avg_transaction_value  avg_frequency_login_days  points_in_wallet  \\\n",
       "0                      0                        10               700   \n",
       "\n",
       "  used_special_discount offer_application_preference past_complaint  \\\n",
       "0                   Yes                           No            Yes   \n",
       "\n",
       "  complaint_status              feedback  \n",
       "0   Not Applicable  Poor Product Quality  "
      ]
     },
     "execution_count": 11,
     "metadata": {},
     "output_type": "execute_result"
    }
   ],
   "source": [
    "data_inf={'age':50,\n",
    "                'gender': \"F\",\n",
    "                'region_category': \"Town\",\n",
    "                'membership_category': \"No Membership\",\n",
    "                'joining_date': \"2017-04-05\",\n",
    "                'joined_through_referral': \"Yes\",\n",
    "                'preferred_offer_types':\"Without Offers\t\" ,\n",
    "                'medium_of_operation':\"Desktop\",\n",
    "                'internet_option':\"Fiber_Optic\",\n",
    "                'last_visit_time': \"22:31:06\",\n",
    "                'days_since_last_login': 0,\n",
    "                'avg_time_spent': 338,\n",
    "                'avg_transaction_value': 0,\n",
    "                'avg_frequency_login_days': 10,\n",
    "                'points_in_wallet': 700 ,\n",
    "                'used_special_discount': \"Yes\",\n",
    "                'offer_application_preference': \"No\",\n",
    "                'past_complaint':\"Yes\",\n",
    "                'complaint_status':\"Not Applicable\",\n",
    "                'feedback':\"Poor Product Quality\"}\n",
    "\n",
    "data_inf=pd.DataFrame([data_inf])\n",
    "data_inf\n"
   ]
  },
  {
   "cell_type": "code",
   "execution_count": 13,
   "metadata": {},
   "outputs": [],
   "source": [
    "#tranform data\n",
    "data_inf_transform=model_pipeline.transform(data_inf)"
   ]
  },
  {
   "cell_type": "code",
   "execution_count": 14,
   "metadata": {},
   "outputs": [
    {
     "name": "stdout",
     "output_type": "stream",
     "text": [
      "1/1 [==============================] - 0s 23ms/step\n"
     ]
    },
    {
     "data": {
      "text/plain": [
       "array([[0.96193755]], dtype=float32)"
      ]
     },
     "execution_count": 14,
     "metadata": {},
     "output_type": "execute_result"
    }
   ],
   "source": [
    "#predict data\n",
    "y_pred_inf=model_seq.predict(data_inf_transform)\n",
    "y_pred_inf"
   ]
  },
  {
   "cell_type": "code",
   "execution_count": 15,
   "metadata": {},
   "outputs": [
    {
     "name": "stdout",
     "output_type": "stream",
     "text": [
      "Customer diprediksi akan churn\n"
     ]
    }
   ],
   "source": [
    "#membuat fungsi output\n",
    "def print_churn_prediction(y_pred_inf):\n",
    "    if y_pred_inf >0.5 :\n",
    "        print(\"Customer diprediksi akan churn\")\n",
    "    else:\n",
    "        print(\"Customer diprediksi tidak akan churn\")\n",
    "\n",
    "print_churn_prediction(y_pred_inf)"
   ]
  }
 ],
 "metadata": {
  "kernelspec": {
   "display_name": "Python 3",
   "language": "python",
   "name": "python3"
  },
  "language_info": {
   "codemirror_mode": {
    "name": "ipython",
    "version": 3
   },
   "file_extension": ".py",
   "mimetype": "text/x-python",
   "name": "python",
   "nbconvert_exporter": "python",
   "pygments_lexer": "ipython3",
   "version": "3.9.13"
  },
  "orig_nbformat": 4
 },
 "nbformat": 4,
 "nbformat_minor": 2
}
